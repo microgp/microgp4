{
 "cells": [
  {
   "cell_type": "code",
   "execution_count": 1,
   "metadata": {},
   "outputs": [],
   "source": [
    "#############################################################################\n",
    "#          __________                                                       #\n",
    "#   __  __/ ____/ __ \\__ __   This file is part of MicroGP4 v1.0 \"Kiwi\"     #\n",
    "#  / / / / / __/ /_/ / // /   (!) by Giovanni Squillero and Alberto Tonda   #\n",
    "# / /_/ / /_/ / ____/ // /_   https://github.com/squillero/microgp4         #\n",
    "# \\__  /\\____/_/   /__  __/                                                 #\n",
    "#   /_/ --MicroGP4-- /_/      \"You don't need a big goal, be μ-ambitious!!\" #\n",
    "#                                                                           #\n",
    "#############################################################################"
   ]
  },
  {
   "cell_type": "code",
   "execution_count": 2,
   "metadata": {},
   "outputs": [],
   "source": [
    "import sys\n",
    "sys.path += ['../../..']\n",
    "import os\n",
    "os.environ['PYTHONWARNINGS'] = 'default'"
   ]
  },
  {
   "cell_type": "code",
   "execution_count": 3,
   "metadata": {},
   "outputs": [
    {
     "name": "stderr",
     "output_type": "stream",
     "text": [
      "C:\\ProgramData\\Anaconda3\\lib\\site-packages\\ipykernel_launcher.py:1: UserWarning: Paranoia checks are active; performances can be significantly impaired (consider using '-O')\n",
      "  \"\"\"Entry point for launching an IPython kernel.\n"
     ]
    }
   ],
   "source": [
    "import microgp as ugp4"
   ]
  },
  {
   "cell_type": "markdown",
   "metadata": {},
   "source": [
    "### Set up instruction library"
   ]
  },
  {
   "cell_type": "code",
   "execution_count": 4,
   "metadata": {},
   "outputs": [],
   "source": [
    "# Define a parameter of type ugp4.parameter.Bitstring and length = 8\n",
    "bitstring = ugp4.make_parameter(ugp4.parameter.Bitstring, len_=64)\n",
    "\n",
    "# Define a macro that contains a parameter of type ugp4.parameter.Bitstring\n",
    "word_macro = ugp4.Macro(\"{x}\", {'x': bitstring})\n",
    "\n",
    "# Create a section containing a macro\n",
    "word_section = ugp4.make_section(word_macro, size=(1, 1), name='word_sec')\n",
    "\n",
    "# Create a constraints library\n",
    "library = ugp4.Constraints()\n",
    "\n",
    "# Define the sections in the library\n",
    "library['main'] = [word_macro]\n",
    "\n",
    "# Fitness (simple)\n",
    "library.evaluator = ugp4.fitness.make_evaluator(evaluator=lambda s: s.count('1'), \n",
    "                                                fitness_type=ugp4.fitness.Simple)"
   ]
  },
  {
   "cell_type": "markdown",
   "metadata": {},
   "source": [
    "### Operators"
   ]
  },
  {
   "cell_type": "code",
   "execution_count": 5,
   "metadata": {},
   "outputs": [],
   "source": [
    "# Create a list of operators with their aritiy\n",
    "operators = ugp4.Operators()\n",
    "\n",
    "# Add initialization operators\n",
    "operators += ugp4.GenOperator(ugp4.create_random_individual, 0)\n",
    "\n",
    "# Add mutation operators\n",
    "operators += ugp4.GenOperator(ugp4.hierarchical_mutation, 1)\n",
    "operators += ugp4.GenOperator(ugp4.flat_mutation, 1)"
   ]
  },
  {
   "cell_type": "markdown",
   "metadata": {},
   "source": [
    "### Evolution core"
   ]
  },
  {
   "cell_type": "code",
   "execution_count": 15,
   "metadata": {},
   "outputs": [],
   "source": [
    "darwin = ugp4.Darwin(\n",
    "    constraints=library,\n",
    "    operators=operators,\n",
    "    mu=10,\n",
    "    nu=10,\n",
    "    lambda_=10,\n",
    "    strength=.7,\n",
    "    max_age=50,\n",
    "    max_generations=100\n",
    ")"
   ]
  },
  {
   "cell_type": "markdown",
   "metadata": {},
   "source": [
    "### Let's roll!"
   ]
  },
  {
   "cell_type": "code",
   "execution_count": 16,
   "metadata": {},
   "outputs": [
    {
     "name": "stderr",
     "output_type": "stream",
     "text": [
      "11:46:16 Final archive:\n",
      "11:46:16 5584: 11111111111111111111111111111011 [Lexicographic(31)]\n",
      "11:46:16 5738: 11111111111111111111111101111111 [Lexicographic(31)]\n"
     ]
    }
   ],
   "source": [
    "darwin.evolve()\n",
    "\n",
    "ugp4.logging.bare(\"Final archive:\")\n",
    "for i in darwin.archive.individuals:\n",
    "    ugp4.logging.bare(f\"{i.id}: {i} [{i.fitness}]\")"
   ]
  },
  {
   "cell_type": "code",
   "execution_count": null,
   "metadata": {},
   "outputs": [],
   "source": []
  }
 ],
 "metadata": {
  "kernelspec": {
   "display_name": "Python 3",
   "language": "python",
   "name": "python3"
  },
  "language_info": {
   "codemirror_mode": {
    "name": "ipython",
    "version": 3
   },
   "file_extension": ".py",
   "mimetype": "text/x-python",
   "name": "python",
   "nbconvert_exporter": "python",
   "pygments_lexer": "ipython3",
   "version": "3.7.7"
  }
 },
 "nbformat": 4,
 "nbformat_minor": 4
}