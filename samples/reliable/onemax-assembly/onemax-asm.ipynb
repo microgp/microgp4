{
 "cells": [
  {
   "cell_type": "markdown",
   "metadata": {},
   "source": [
    "Import the MicroGP package (first install it: ``!pip install microgp``)\n"
   ]
  },
  {
   "cell_type": "code",
   "execution_count": 1,
   "metadata": {
    "pycharm": {
     "is_executing": false,
     "name": "#%%\n"
    }
   },
   "outputs": [
    {
     "name": "stderr",
     "output_type": "stream",
     "text": [
      "M:\\LuBa\\Documenti\\GitHub\\microgp4\\src\\microgp\\__init__.py:51: UserWarning: Paranoia checks are active: performances can be significantly impaired (consider using '-O')\n",
      "  warnings.warn(WARN_DBG, UserWarning)\n",
      "11:45:08 INFO Initialized random generator\n"
     ]
    }
   ],
   "source": [
    "import sys\n",
    "import microgp as ugp\n",
    "ugp.logging.DefaultLogger.setLevel(level=ugp.logging.INFO)"
   ]
  },
  {
   "cell_type": "markdown",
   "metadata": {},
   "source": [
    "### Creation of the individuals structure\n",
    "Define parameters"
   ]
  },
  {
   "cell_type": "code",
   "execution_count": 2,
   "metadata": {
    "pycharm": {
     "is_executing": false,
     "name": "#%%\n"
    }
   },
   "outputs": [],
   "source": [
    "reg_alternatives = ['%eax', '%ebx', '%ecx', '%edx']\n",
    "reg_param = ugp.make_parameter(ugp.parameter.Categorical, alternatives=reg_alternatives)\n",
    "instr_alternatives = ['add', 'sub', 'and', 'or', 'xor', 'cmp']\n",
    "instr_param = ugp.make_parameter(ugp.parameter.Categorical, alternatives=instr_alternatives)\n",
    "shift_alternatives = ['shr', 'shl']\n",
    "shift_param = ugp.make_parameter(ugp.parameter.Categorical, alternatives=shift_alternatives)\n",
    "jmp_alternatives = ['ja', 'jz', 'jnz', 'je', 'jne', 'jc', 'jnc', 'jo', 'jno', 'jmp']\n",
    "jmp_instructions = ugp.make_parameter(ugp.parameter.Categorical, alternatives=jmp_alternatives)\n",
    "integer = ugp.make_parameter(ugp.parameter.Integer, min=-32768, max=32767)\n",
    "int8 = ugp.make_parameter(ugp.parameter.Integer, min=0, max=256)\n",
    "jmp_target = ugp.make_parameter(ugp.parameter.LocalReference,\n",
    "                                allow_self=False,\n",
    "                                allow_forward=True,\n",
    "                                allow_backward=False,\n",
    "                                frames_up=0)"
   ]
  },
  {
   "cell_type": "markdown",
   "metadata": {},
   "source": [
    "Define the macros"
   ]
  },
  {
   "cell_type": "code",
   "execution_count": 3,
   "metadata": {
    "pycharm": {
     "is_executing": false,
     "name": "#%%\n"
    }
   },
   "outputs": [],
   "source": [
    "jmp1 = ugp.Macro(\"    {jmp_instr} {jmp_ref}\", {'jmp_instr': jmp_instructions, 'jmp_ref': jmp_target})\n",
    "instr_op_macro = ugp.Macro(\"    {instr} {regS}, {regD}\",{'instr': instr_param, 'regS': reg_param, 'regD': reg_param})\n",
    "shift_op_macro = ugp.Macro(\"    {shift} ${int8}, {regD}\", {'shift': shift_param, 'int8': int8, 'regD': reg_param})\n",
    "prologue_macro = ugp.Macro('    .file   \"solution.c\"\\n' +\n",
    "                           '    .text\\n' +\n",
    "                           '    .globl  _darwin\\n' +\n",
    "                           '    .def    _darwin;        .scl    2;      .type   32;     .endef\\n' +\n",
    "                           '_darwin:\\n' +\n",
    "                           'LFB17:\\n' +\n",
    "                           '    .cfi_startproc\\n' +\n",
    "                           '    pushl   %ebp\\n' +\n",
    "                           '    .cfi_def_cfa_offset 8\\n' +\n",
    "                           '    .cfi_offset 5, -8\\n' +\n",
    "                           '    movl    %esp, %ebp\\n' +\n",
    "                           '    .cfi_def_cfa_register 5\\n')\n",
    "init_macro = ugp.Macro(\"    movl\t${int_a}, %eax\\n\" +\n",
    "                       \"    movl\t${int_b}, %ebx\\n\" +\n",
    "                       \"    movl\t${int_c}, %ecx\\n\" +\n",
    "                       \"    movl\t${int_d}, %edx\\n\",\n",
    "                       {'int_a': integer, 'int_b': integer, 'int_c': integer, 'int_d': integer})\n",
    "epilogue_macro = ugp.Macro(\n",
    "    '    movl\t%eax, -4(%ebp)\\n' +\n",
    "    '    movl\t-4(%ebp), %eax\\n' +\n",
    "    '    leave\\n' +\n",
    "    '    .cfi_restore 5\\n' +\n",
    "    '    .cfi_def_cfa 4, 4\\n' +\n",
    "    '    ret\\n' +\n",
    "    '    .cfi_endproc\\n' +\n",
    "    'LFE17:\\n' +\n",
    "    '   .ident  \"GCC: (MinGW.org GCC-8.2.0-5) 8.2.0\"\\n')"
   ]
  },
  {
   "cell_type": "markdown",
   "metadata": {},
   "source": [
    "Define section"
   ]
  },
  {
   "cell_type": "code",
   "execution_count": 4,
   "metadata": {
    "pycharm": {
     "is_executing": false,
     "name": "#%%\n"
    }
   },
   "outputs": [],
   "source": [
    "sec1 = ugp.make_section({jmp1, instr_op_macro, shift_op_macro}, size=(1, 50))"
   ]
  },
  {
   "cell_type": "markdown",
   "metadata": {},
   "source": [
    "Create an instruction library"
   ]
  },
  {
   "cell_type": "code",
   "execution_count": 5,
   "metadata": {
    "pycharm": {
     "is_executing": false,
     "name": "#%%\n"
    }
   },
   "outputs": [],
   "source": [
    "library = ugp.Constraints(file_name=\"solution{node_id}.s\")"
   ]
  },
  {
   "cell_type": "markdown",
   "metadata": {},
   "source": [
    "Define the sections in the library"
   ]
  },
  {
   "cell_type": "code",
   "execution_count": 6,
   "metadata": {
    "pycharm": {
     "is_executing": false,
     "name": "#%%\n"
    }
   },
   "outputs": [],
   "source": [
    "library['main'] = [prologue_macro, init_macro, sec1, epilogue_macro]"
   ]
  },
  {
   "cell_type": "markdown",
   "metadata": {},
   "source": [
    "### Define the evaluator script and the fitness type"
   ]
  },
  {
   "cell_type": "code",
   "execution_count": 7,
   "metadata": {
    "pycharm": {
     "is_executing": false,
     "name": "#%%\n"
    }
   },
   "outputs": [],
   "source": [
    "if sys.platform != \"win32\":\n",
    "    exit(-1)\n",
    "else:\n",
    "    script = \"eval.bat\"\n",
    "library.evaluator = ugp.fitness.make_evaluator(evaluator=script, fitness_type=ugp.fitness.Lexicographic)"
   ]
  },
  {
   "cell_type": "markdown",
   "metadata": {
    "pycharm": {
     "is_executing": false,
     "name": "#%% md\n"
    }
   },
   "source": [
    "Define and set a property. It checks whether the section 'sec1' has or not the same number of 'shr' and 'shl'"
   ]
  },
  {
   "cell_type": "code",
   "execution_count": 8,
   "metadata": {
    "pycharm": {
     "is_executing": false,
     "name": "#%% \n"
    }
   },
   "outputs": [],
   "source": [
    "def shift_count(individual, frame, **kk):\n",
    "    from microgp.individual import get_nodes_in_frame\n",
    "    shl_count = 0\n",
    "    shr_count = 0\n",
    "    nodes = get_nodes_in_frame(individual, frame)\n",
    "    for node in nodes:\n",
    "        parameters = individual.nodes[node]['parameters']\n",
    "        if 'shift' in parameters.keys():\n",
    "            if parameters['shift'].value == 'shr':\n",
    "                shr_count += 1\n",
    "            elif parameters['shift'].value == 'shl':\n",
    "                shl_count += 1\n",
    "    return {'shl_count': shl_count, 'shr_count': shr_count}\n",
    "\n",
    "sec1.properties.add_base_builder(shift_count)\n",
    "sec1.properties.add_checker(lambda shl_count, shr_count, **v: shl_count == shr_count)"
   ]
  },
  {
   "cell_type": "markdown",
   "metadata": {},
   "source": [
    "### Create a list of operators with their aritiy"
   ]
  },
  {
   "cell_type": "code",
   "execution_count": 9,
   "metadata": {
    "pycharm": {
     "is_executing": false,
     "name": "#%%\n"
    }
   },
   "outputs": [],
   "source": [
    "operators = ugp.Operators()"
   ]
  },
  {
   "cell_type": "markdown",
   "metadata": {},
   "source": [
    "Add initialization operators"
   ]
  },
  {
   "cell_type": "code",
   "execution_count": 10,
   "metadata": {
    "pycharm": {
     "is_executing": false,
     "name": "#%%\n"
    }
   },
   "outputs": [],
   "source": [
    "operators += ugp.GenOperator(ugp.create_random_individual, 0)"
   ]
  },
  {
   "cell_type": "markdown",
   "metadata": {},
   "source": [
    "Add mutation operators"
   ]
  },
  {
   "cell_type": "code",
   "execution_count": 11,
   "metadata": {
    "pycharm": {
     "is_executing": false,
     "name": "#%%\n"
    }
   },
   "outputs": [],
   "source": [
    "operators += ugp.GenOperator(ugp.hierarchical_mutation, 1)\n",
    "operators += ugp.GenOperator(ugp.flat_mutation, 1)\n",
    "operators += ugp.GenOperator(ugp.add_node_mutation, 1)\n",
    "operators += ugp.GenOperator(ugp.remove_node_mutation, 1)"
   ]
  },
  {
   "cell_type": "markdown",
   "metadata": {},
   "source": [
    "Add crossover operators"
   ]
  },
  {
   "cell_type": "code",
   "execution_count": 12,
   "metadata": {
    "pycharm": {
     "is_executing": false,
     "name": "#%%\n"
    }
   },
   "outputs": [],
   "source": [
    "operators += ugp.GenOperator(ugp.macro_pool_one_cut_point_crossover, 2)\n",
    "operators += ugp.GenOperator(ugp.macro_pool_uniform_crossover, 2)"
   ]
  },
  {
   "cell_type": "markdown",
   "metadata": {},
   "source": [
    "Create the object that will manage the evolution"
   ]
  },
  {
   "cell_type": "code",
   "execution_count": 13,
   "metadata": {
    "pycharm": {
     "is_executing": false,
     "name": "#%%\n"
    }
   },
   "outputs": [],
   "source": [
    "mu = 10\n",
    "nu = 20\n",
    "sigma = 0.7\n",
    "lambda_ = 7\n",
    "max_age = 10\n",
    "\n",
    "darwin = ugp.Darwin(\n",
    "    constraints=library,\n",
    "    operators=operators,\n",
    "    mu=mu,\n",
    "    nu=nu,\n",
    "    lambda_=lambda_,\n",
    "    sigma=sigma,\n",
    "    max_age=max_age,\n",
    ")"
   ]
  },
  {
   "cell_type": "markdown",
   "metadata": {},
   "source": [
    "Evolve (create random individuals and use selected genetic operators to evolve them)"
   ]
  },
  {
   "cell_type": "code",
   "execution_count": 14,
   "metadata": {
    "pycharm": {
     "is_executing": false,
     "name": "#%%\n"
    }
   },
   "outputs": [
    {
     "name": "stderr",
     "output_type": "stream",
     "text": [
      "M:\\LuBa\\Documenti\\GitHub\\microgp4\\src\\microgp\\parameter\\helpers.py:64: RuntimeWarning: invalid value encountered in true_divide\n",
      "  probs = probs / sum(probs)\n"
     ]
    }
   ],
   "source": [
    "darwin.evolve()"
   ]
  },
  {
   "cell_type": "markdown",
   "metadata": {},
   "source": [
    "Print best individuals, and their graph_manager"
   ]
  },
  {
   "cell_type": "code",
   "execution_count": 15,
   "metadata": {
    "pycharm": {
     "is_executing": false,
     "name": "#%%\n"
    },
    "scrolled": false
   },
   "outputs": [
    {
     "name": "stderr",
     "output_type": "stream",
     "text": [
      "11:45:18 These are the best ever individuals:\n",
      "11:45:18     .file   \"solution.c\"\n",
      "11:45:18     .text\n",
      "11:45:18     .globl  _darwin\n",
      "11:45:18     .def    _darwin;        .scl    2;      .type   32;     .endef\n",
      "11:45:18 _darwin:\n",
      "11:45:18 LFB17:\n",
      "11:45:18     .cfi_startproc\n",
      "11:45:18     pushl   %ebp\n",
      "11:45:18     .cfi_def_cfa_offset 8\n",
      "11:45:18     .cfi_offset 5, -8\n",
      "11:45:18     movl    %esp, %ebp\n",
      "11:45:18     .cfi_def_cfa_register 5\n",
      "11:45:18 \n",
      "11:45:18     movl\t$-12578, %eax\n",
      "11:45:18     movl\t$31294, %ebx\n",
      "11:45:18     movl\t$-3567, %ecx\n",
      "11:45:18     movl\t$24530, %edx\n",
      "11:45:18 \n",
      "11:45:18     jno n4\n",
      "11:45:18 n4:\n",
      "11:45:18     movl\t%eax, -4(%ebp)\n",
      "11:45:18     movl\t-4(%ebp), %eax\n",
      "11:45:18     leave\n",
      "11:45:18     .cfi_restore 5\n",
      "11:45:18     .cfi_def_cfa 4, 4\n",
      "11:45:18     ret\n",
      "11:45:18     .cfi_endproc\n",
      "11:45:18 LFE17:\n",
      "11:45:18    .ident  \"GCC: (MinGW.org GCC-8.2.0-5) 8.2.0\"\n",
      "M:\\LuBa\\Documenti\\GitHub\\microgp4\\src\\microgp\\individual_operators.py:66: RuntimeWarning: Can't plot individual without ``matplotlib''\n",
      "  warnings.warn(WARN_PLT, RuntimeWarning)\n",
      "11:45:18 Fitness score: Lexicographic(27)\n",
      "\n",
      "11:45:18     .file   \"solution.c\"\n",
      "11:45:18     .text\n",
      "11:45:18     .globl  _darwin\n",
      "11:45:18     .def    _darwin;        .scl    2;      .type   32;     .endef\n",
      "11:45:18 _darwin:\n",
      "11:45:18 LFB17:\n",
      "11:45:18     .cfi_startproc\n",
      "11:45:18     pushl   %ebp\n",
      "11:45:18     .cfi_def_cfa_offset 8\n",
      "11:45:18     .cfi_offset 5, -8\n",
      "11:45:18     movl    %esp, %ebp\n",
      "11:45:18     .cfi_def_cfa_register 5\n",
      "11:45:18 \n",
      "11:45:18     movl\t$-12578, %eax\n",
      "11:45:18     movl\t$4063, %ebx\n",
      "11:45:18     movl\t$-3567, %ecx\n",
      "11:45:18     movl\t$24530, %edx\n",
      "11:45:18 \n",
      "11:45:18     jno n6\n",
      "11:45:18     cmp %ecx, %ecx\n",
      "11:45:18     or %eax, %edx\n",
      "11:45:18 n6:\n",
      "11:45:18     movl\t%eax, -4(%ebp)\n",
      "11:45:18     movl\t-4(%ebp), %eax\n",
      "11:45:18     leave\n",
      "11:45:18     .cfi_restore 5\n",
      "11:45:18     .cfi_def_cfa 4, 4\n",
      "11:45:18     ret\n",
      "11:45:18     .cfi_endproc\n",
      "11:45:18 LFE17:\n",
      "11:45:18    .ident  \"GCC: (MinGW.org GCC-8.2.0-5) 8.2.0\"\n",
      "11:45:18 Fitness score: Lexicographic(27)\n",
      "\n",
      "11:45:18     .file   \"solution.c\"\n",
      "11:45:18     .text\n",
      "11:45:18     .globl  _darwin\n",
      "11:45:18     .def    _darwin;        .scl    2;      .type   32;     .endef\n",
      "11:45:18 _darwin:\n",
      "11:45:18 LFB17:\n",
      "11:45:18     .cfi_startproc\n",
      "11:45:18     pushl   %ebp\n",
      "11:45:18     .cfi_def_cfa_offset 8\n",
      "11:45:18     .cfi_offset 5, -8\n",
      "11:45:18     movl    %esp, %ebp\n",
      "11:45:18     .cfi_def_cfa_register 5\n",
      "11:45:18 \n",
      "11:45:18     movl\t$-12578, %eax\n",
      "11:45:18     movl\t$31294, %ebx\n",
      "11:45:18     movl\t$-3567, %ecx\n",
      "11:45:18     movl\t$24530, %edx\n",
      "11:45:18 \n",
      "11:45:18     jno n5\n",
      "11:45:18     cmp %ecx, %eax\n",
      "11:45:18 n5:\n",
      "11:45:18     movl\t%eax, -4(%ebp)\n",
      "11:45:18     movl\t-4(%ebp), %eax\n",
      "11:45:18     leave\n",
      "11:45:18     .cfi_restore 5\n",
      "11:45:18     .cfi_def_cfa 4, 4\n",
      "11:45:18     ret\n",
      "11:45:18     .cfi_endproc\n",
      "11:45:18 LFE17:\n",
      "11:45:18    .ident  \"GCC: (MinGW.org GCC-8.2.0-5) 8.2.0\"\n",
      "11:45:18 Fitness score: Lexicographic(27)\n",
      "\n",
      "11:45:18     .file   \"solution.c\"\n",
      "11:45:18     .text\n",
      "11:45:18     .globl  _darwin\n",
      "11:45:18     .def    _darwin;        .scl    2;      .type   32;     .endef\n",
      "11:45:18 _darwin:\n",
      "11:45:18 LFB17:\n",
      "11:45:18     .cfi_startproc\n",
      "11:45:18     pushl   %ebp\n",
      "11:45:18     .cfi_def_cfa_offset 8\n",
      "11:45:18     .cfi_offset 5, -8\n",
      "11:45:18     movl    %esp, %ebp\n",
      "11:45:18     .cfi_def_cfa_register 5\n",
      "11:45:18 \n",
      "11:45:18     movl\t$-12578, %eax\n",
      "11:45:18     movl\t$31294, %ebx\n",
      "11:45:18     movl\t$-3567, %ecx\n",
      "11:45:18     movl\t$31632, %edx\n",
      "11:45:18 \n",
      "11:45:18     ja n4\n",
      "11:45:18 n4:\n",
      "11:45:18     movl\t%eax, -4(%ebp)\n",
      "11:45:18     movl\t-4(%ebp), %eax\n",
      "11:45:18     leave\n",
      "11:45:18     .cfi_restore 5\n",
      "11:45:18     .cfi_def_cfa 4, 4\n",
      "11:45:18     ret\n",
      "11:45:18     .cfi_endproc\n",
      "11:45:18 LFE17:\n",
      "11:45:18    .ident  \"GCC: (MinGW.org GCC-8.2.0-5) 8.2.0\"\n",
      "11:45:18 Fitness score: Lexicographic(27)\n",
      "\n",
      "11:45:18     .file   \"solution.c\"\n",
      "11:45:18     .text\n",
      "11:45:18     .globl  _darwin\n",
      "11:45:18     .def    _darwin;        .scl    2;      .type   32;     .endef\n",
      "11:45:18 _darwin:\n",
      "11:45:18 LFB17:\n",
      "11:45:18     .cfi_startproc\n",
      "11:45:18     pushl   %ebp\n",
      "11:45:18     .cfi_def_cfa_offset 8\n",
      "11:45:18     .cfi_offset 5, -8\n",
      "11:45:18     movl    %esp, %ebp\n",
      "11:45:18     .cfi_def_cfa_register 5\n",
      "11:45:18 \n",
      "11:45:18     movl\t$-12578, %eax\n",
      "11:45:18     movl\t$31294, %ebx\n",
      "11:45:18     movl\t$-3567, %ecx\n",
      "11:45:18     movl\t$24530, %edx\n",
      "11:45:18 \n",
      "11:45:18     jno n7\n",
      "11:45:18     jnz n6\n",
      "11:45:18     cmp %ecx, %eax\n",
      "11:45:18 n6:\n",
      "11:45:18     xor %ecx, %eax\n",
      "11:45:18 n7:\n",
      "11:45:18     movl\t%eax, -4(%ebp)\n",
      "11:45:18     movl\t-4(%ebp), %eax\n",
      "11:45:18     leave\n",
      "11:45:18     .cfi_restore 5\n",
      "11:45:18     .cfi_def_cfa 4, 4\n",
      "11:45:18     ret\n",
      "11:45:18     .cfi_endproc\n",
      "11:45:18 LFE17:\n",
      "11:45:18    .ident  \"GCC: (MinGW.org GCC-8.2.0-5) 8.2.0\"\n",
      "11:45:18 Fitness score: Lexicographic(27)\n",
      "\n",
      "11:45:18     .file   \"solution.c\"\n",
      "11:45:18     .text\n",
      "11:45:18     .globl  _darwin\n",
      "11:45:18     .def    _darwin;        .scl    2;      .type   32;     .endef\n",
      "11:45:18 _darwin:\n",
      "11:45:18 LFB17:\n",
      "11:45:18     .cfi_startproc\n",
      "11:45:18     pushl   %ebp\n",
      "11:45:18     .cfi_def_cfa_offset 8\n",
      "11:45:18     .cfi_offset 5, -8\n",
      "11:45:18     movl    %esp, %ebp\n",
      "11:45:18     .cfi_def_cfa_register 5\n",
      "11:45:18 \n",
      "11:45:18     movl\t$-12578, %eax\n",
      "11:45:18     movl\t$4063, %ebx\n",
      "11:45:18     movl\t$-3567, %ecx\n",
      "11:45:18     movl\t$24530, %edx\n",
      "11:45:18 \n",
      "11:45:18     jno n5\n",
      "11:45:18     cmp %ecx, %ecx\n",
      "11:45:18 n5:\n",
      "11:45:18     movl\t%eax, -4(%ebp)\n",
      "11:45:18     movl\t-4(%ebp), %eax\n",
      "11:45:18     leave\n",
      "11:45:18     .cfi_restore 5\n",
      "11:45:18     .cfi_def_cfa 4, 4\n",
      "11:45:18     ret\n",
      "11:45:18     .cfi_endproc\n",
      "11:45:18 LFE17:\n",
      "11:45:18    .ident  \"GCC: (MinGW.org GCC-8.2.0-5) 8.2.0\"\n",
      "11:45:18 Fitness score: Lexicographic(27)\n",
      "\n",
      "11:45:18     .file   \"solution.c\"\n",
      "11:45:18     .text\n",
      "11:45:18     .globl  _darwin\n",
      "11:45:18     .def    _darwin;        .scl    2;      .type   32;     .endef\n",
      "11:45:18 _darwin:\n",
      "11:45:18 LFB17:\n",
      "11:45:18     .cfi_startproc\n",
      "11:45:18     pushl   %ebp\n",
      "11:45:18     .cfi_def_cfa_offset 8\n",
      "11:45:18     .cfi_offset 5, -8\n",
      "11:45:18     movl    %esp, %ebp\n",
      "11:45:18     .cfi_def_cfa_register 5\n",
      "11:45:18 \n",
      "11:45:18     movl\t$-12578, %eax\n",
      "11:45:18     movl\t$31294, %ebx\n",
      "11:45:18     movl\t$-12779, %ecx\n",
      "11:45:18     movl\t$-26474, %edx\n",
      "11:45:18 \n",
      "11:45:18     jno n4\n",
      "11:45:18 n4:\n",
      "11:45:18     movl\t%eax, -4(%ebp)\n",
      "11:45:18     movl\t-4(%ebp), %eax\n",
      "11:45:18     leave\n",
      "11:45:18     .cfi_restore 5\n",
      "11:45:18     .cfi_def_cfa 4, 4\n",
      "11:45:18     ret\n",
      "11:45:18     .cfi_endproc\n",
      "11:45:18 LFE17:\n",
      "11:45:18    .ident  \"GCC: (MinGW.org GCC-8.2.0-5) 8.2.0\"\n",
      "11:45:18 Fitness score: Lexicographic(27)\n",
      "\n"
     ]
    }
   ],
   "source": [
    "ugp.print_individual(darwin.archive.individuals,\n",
    "                     msg=\"These are the best ever individuals:\",\n",
    "                     plot=True, score=True)"
   ]
  },
  {
   "cell_type": "code",
   "execution_count": null,
   "metadata": {},
   "outputs": [],
   "source": []
  }
 ],
 "metadata": {
  "kernelspec": {
   "display_name": "Python 3",
   "language": "python",
   "name": "python3"
  },
  "language_info": {
   "codemirror_mode": {
    "name": "ipython",
    "version": 3
   },
   "file_extension": ".py",
   "mimetype": "text/x-python",
   "name": "python",
   "nbconvert_exporter": "python",
   "pygments_lexer": "ipython3",
   "version": "3.7.4"
  },
  "pycharm": {
   "stem_cell": {
    "cell_type": "raw",
    "metadata": {
     "collapsed": false
    },
    "source": [
     "\n",
     "\n",
     "\n"
    ]
   }
  }
 },
 "nbformat": 4,
 "nbformat_minor": 1
}
