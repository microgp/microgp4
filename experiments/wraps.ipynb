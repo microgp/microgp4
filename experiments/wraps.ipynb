{
 "cells": [
  {
   "cell_type": "markdown",
   "id": "28a1c22e",
   "metadata": {},
   "source": [
    "This notebook is part of [**MicroGP v4!2.0**](https://github.com/squillero/microgp4)  \n",
    "Copyright 2023 Giovanni Squillero and Alberto Tonda  \n",
    "SPDX-License-Identifier: Apache-2.0  "
   ]
  },
  {
   "cell_type": "code",
   "execution_count": 7,
   "id": "a40b0cd7",
   "metadata": {},
   "outputs": [],
   "source": [
    "def beauty(cls=None, /, *, x=1, y=2):\n",
    "    print(cls)\n",
    "\n",
    "    def wrap(cls):\n",
    "        print(42)\n",
    "    \n",
    "    if cls is None:\n",
    "        # We're called with parens.\n",
    "        return wrap\n",
    "\n",
    "    # We're called as @dataclass without parens.\n",
    "    return wrap(cls)    "
   ]
  },
  {
   "cell_type": "code",
   "execution_count": 8,
   "id": "c419cdab",
   "metadata": {},
   "outputs": [
    {
     "name": "stdout",
     "output_type": "stream",
     "text": [
      "<function foo at 0x00000258FA93A0C0>\n",
      "42\n"
     ]
    }
   ],
   "source": [
    "@beauty\n",
    "def foo():\n",
    "    print('foo')"
   ]
  },
  {
   "cell_type": "code",
   "execution_count": 10,
   "id": "ef1cc5ae",
   "metadata": {},
   "outputs": [],
   "source": [
    "foo"
   ]
  },
  {
   "cell_type": "code",
   "execution_count": 11,
   "id": "25797ca8",
   "metadata": {},
   "outputs": [
    {
     "name": "stdout",
     "output_type": "stream",
     "text": [
      "None\n",
      "42\n"
     ]
    }
   ],
   "source": [
    "@beauty(x=10, y=20)\n",
    "def foo():\n",
    "    print('foo')"
   ]
  },
  {
   "cell_type": "code",
   "execution_count": null,
   "id": "6ea6f77d",
   "metadata": {},
   "outputs": [],
   "source": []
  }
 ],
 "metadata": {
  "kernelspec": {
   "display_name": "Python 3 (ipykernel)",
   "language": "python",
   "name": "python3"
  },
  "language_info": {
   "codemirror_mode": {
    "name": "ipython",
    "version": 3
   },
   "file_extension": ".py",
   "mimetype": "text/x-python",
   "name": "python",
   "nbconvert_exporter": "python",
   "pygments_lexer": "ipython3",
   "version": "3.11.2"
  }
 },
 "nbformat": 4,
 "nbformat_minor": 5
}
