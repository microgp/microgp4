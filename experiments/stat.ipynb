{
 "cells": [
  {
   "cell_type": "markdown",
   "metadata": {},
   "source": [
    "This notebook is part of [**MicroGP v4!2.0**](https://github.com/squillero/microgp4)  \n",
    "Copyright 2023 Giovanni Squillero and Alberto Tonda  \n",
    "SPDX-License-Identifier: Apache-2.0  "
   ]
  },
  {
   "cell_type": "code",
   "execution_count": 2,
   "metadata": {
    "ExecuteTime": {
     "end_time": "2023-04-04T16:27:10.752316Z",
     "start_time": "2023-04-04T16:27:10.161225Z"
    }
   },
   "outputs": [
    {
     "name": "stderr",
     "output_type": "stream",
     "text": [
      "C:\\Users\\giova\\AppData\\Local\\Temp\\ipykernel_15912\\1101854290.py:16: RuntimeWarning: Performance Hint:\n",
      "  Debug asserts are always enabled in notebooks: performances can be significantly impaired\n",
      "  import microgp4 as ugp\n"
     ]
    }
   ],
   "source": [
    "import os\n",
    "import logging\n",
    "\n",
    "logging.basicConfig(format=\"[%(asctime)s] %(levelname)s:%(message)s\", datefmt=\"%H:%M:%S\", level=logging.INFO)\n",
    "\n",
    "from functools import cache\n",
    "\n",
    "os.environ[\"PYTHONOPTIMIZE\"] = \"2\"\n",
    "\n",
    "try:\n",
    "    import microgp4 as ugp\n",
    "except ModuleNotFoundError as e:\n",
    "    import sys, os\n",
    "\n",
    "    logging.debug(\"import: Failed to load microgp4 (%s), adding ../src directory.\", e)\n",
    "    sys.path.append(os.path.join(os.pardir, \"src\"))\n",
    "    import microgp4 as ugp"
   ]
  },
  {
   "cell_type": "code",
   "execution_count": null,
   "metadata": {},
   "outputs": [],
   "source": [
    "# cached: 117 ms ± 2.98 ms per loop (mean ± std. dev. of 7 runs, 10 loops each)\n",
    "# cached: 1.14 s ± 20 ms per loop (mean ± std. dev. of 7 runs, 1 loop each)\n",
    "\n",
    "# non cached: 509 ms ± 3.63 ms per loop (mean ± std. dev. of 7 runs, 1 loop each)\n",
    "# non cached: 5.21 s ± 49 ms per loop (mean ± std. dev. of 7 runs, 1 loop each)\n",
    "\n",
    "%timeit [ugp.random.sigma_randint(10, 20, loc=12, strength=1) for _ in range(10_000)]"
   ]
  },
  {
   "cell_type": "code",
   "execution_count": null,
   "metadata": {},
   "outputs": [],
   "source": []
  }
 ],
 "metadata": {
  "kernelspec": {
   "display_name": "Python 3 (ipykernel)",
   "language": "python",
   "name": "python3"
  },
  "language_info": {
   "codemirror_mode": {
    "name": "ipython",
    "version": 3
   },
   "file_extension": ".py",
   "mimetype": "text/x-python",
   "name": "python",
   "nbconvert_exporter": "python",
   "pygments_lexer": "ipython3",
   "version": "3.11.2"
  }
 },
 "nbformat": 4,
 "nbformat_minor": 1
}
