{
 "cells": [
  {
   "cell_type": "markdown",
   "metadata": {},
   "source": [
    "This notebook is part of [**MicroGP v4!2.0**](https://github.com/microgp/microgp4)  \n",
    "Copyright 2023 Giovanni Squillero and Alberto Tonda  \n",
    "SPDX-License-Identifier: [Apache-2.0](https://www.tldrlegal.com/license/apache-license-2-0-apache-2-0)  "
   ]
  },
  {
   "cell_type": "code",
   "execution_count": 1,
   "metadata": {},
   "outputs": [
    {
     "name": "stderr",
     "output_type": "stream",
     "text": [
      "/var/folders/31/dkl97hks2c14b663vl55pt440000gn/T/ipykernel_47492/1006162436.py:1: RuntimeWarning: \n",
      "  Paranoia checks are always enabled in notebooks: performances can be significantly impaired\n",
      "  import microgp4 as ugp\n"
     ]
    }
   ],
   "source": [
    "import microgp4 as ugp\n",
    "from microgp4.tools import *\n",
    "from microgp4.ea.graph import *\n",
    "\n",
    "import networkx as nx"
   ]
  },
  {
   "cell_type": "code",
   "execution_count": 2,
   "metadata": {},
   "outputs": [],
   "source": [
    "macro1a = ugp.f.macro('1')\n",
    "macro1b = ugp.f.macro('call {m1}', m1=ugp.f.global_reference('frame1'))\n",
    "frame1 = ugp.f.bunch([macro1a, macro1a, macro1a, macro1a, macro1b], name='frame1', size=10_000)\n",
    "frame2 = ugp.f.bunch([macro1a], name='frame2', size=10_000)"
   ]
  },
  {
   "cell_type": "code",
   "execution_count": 3,
   "metadata": {},
   "outputs": [
    {
     "data": {
      "text/plain": [
       "'Individual with 5 frames and 50000 macros (0 parameters total, 1,941 structural)'"
      ]
     },
     "execution_count": 3,
     "metadata": {},
     "output_type": "execute_result"
    }
   ],
   "source": [
    "new_individual = ugp.classes.Individual(top_frame=frame1)\n",
    "unroll(new_individual, frame1)\n",
    "unroll(new_individual, frame2)\n",
    "unroll(new_individual, frame2)\n",
    "unroll(new_individual, frame2)\n",
    "unroll(new_individual, frame2)\n",
    "#new_individual.as_figure()\n",
    "str(new_individual)"
   ]
  },
  {
   "cell_type": "code",
   "execution_count": null,
   "metadata": {},
   "outputs": [],
   "source": [
    "new_individual.G.add_edge(8, 29, key='test', kind='link')\n",
    "new_individual.G.add_edge(20, 26, key='test', kind='link')\n",
    "new_individual.as_figure()"
   ]
  },
  {
   "cell_type": "code",
   "execution_count": null,
   "metadata": {},
   "outputs": [],
   "source": [
    "new_individual.as_tree(figsize=(15,5))"
   ]
  },
  {
   "cell_type": "code",
   "execution_count": null,
   "metadata": {},
   "outputs": [],
   "source": [
    "new_individual.discard_useless_components()\n",
    "#new_individual.as_figure()\n",
    "str(new_individual)"
   ]
  },
  {
   "cell_type": "code",
   "execution_count": null,
   "metadata": {},
   "outputs": [],
   "source": [
    "new_individual.as_tree(figsize=(15,5))"
   ]
  },
  {
   "cell_type": "code",
   "execution_count": null,
   "metadata": {},
   "outputs": [],
   "source": []
  }
 ],
 "metadata": {
  "kernelspec": {
   "display_name": "Python 3 (ipykernel)",
   "language": "python",
   "name": "python3"
  },
  "language_info": {
   "codemirror_mode": {
    "name": "ipython",
    "version": 3
   },
   "file_extension": ".py",
   "mimetype": "text/x-python",
   "name": "python",
   "nbconvert_exporter": "python",
   "pygments_lexer": "ipython3",
   "version": "3.11.3"
  }
 },
 "nbformat": 4,
 "nbformat_minor": 2
}
