{
 "cells": [
  {
   "cell_type": "code",
   "execution_count": 1,
   "metadata": {},
   "outputs": [],
   "source": [
    "#############################################################################\n",
    "#          __________                                                       #\n",
    "#   __  __/ ____/ __ \\__ __   This file is part of MicroGP4 v1.0 \"Kiwi\"     #\n",
    "#  / / / / / __/ /_/ / // /   (!) by Giovanni Squillero and Alberto Tonda   #\n",
    "# / /_/ / /_/ / ____/ // /_   https://github.com/squillero/microgp4         #\n",
    "# \\__  /\\____/_/   /__  __/                                                 #\n",
    "#   /_/ --MicroGP4-- /_/      \"You don't need a big goal, be μ-ambitious!!\" #\n",
    "#                                                                           #\n",
    "#############################################################################"
   ]
  },
  {
   "cell_type": "code",
   "execution_count": 2,
   "metadata": {},
   "outputs": [],
   "source": [
    "%matplotlib inline\n",
    "\n",
    "import sys\n",
    "sys.path += ['..']\n",
    "\n",
    "import os\n",
    "os.environ['PYTHONWARNINGS'] = 'default'"
   ]
  },
  {
   "cell_type": "code",
   "execution_count": 3,
   "metadata": {},
   "outputs": [
    {
     "name": "stderr",
     "output_type": "stream",
     "text": [
      "C:\\ProgramData\\Anaconda3\\lib\\site-packages\\ipykernel_launcher.py:1: UserWarning: Paranoia checks are active; performances can be significantly impaired (consider using '-O')\n",
      "  \"\"\"Entry point for launching an IPython kernel.\n"
     ]
    }
   ],
   "source": [
    "import microgp as ugp4"
   ]
  },
  {
   "cell_type": "code",
   "execution_count": 12,
   "metadata": {},
   "outputs": [],
   "source": [
    "import math, random\n",
    "import numpy as np\n",
    "from scipy import stats\n",
    "import matplotlib.pyplot as plt\n",
    "import seaborn as sns\n",
    "from collections import Counter"
   ]
  },
  {
   "cell_type": "code",
   "execution_count": 169,
   "metadata": {},
   "outputs": [],
   "source": [
    "def randint(a: int, b: int, loc=None, strength=None, raw=False) -> int:\n",
    "    \"\"\"Return a random integer N such that a <= N <= b. Do consider mean (loc) and strength.\"\"\"\n",
    "    #self._calls += 1\n",
    "    assert isinstance(a, int) and isinstance(b, int), \"Range must be int\"\n",
    "    assert loc is None or strength is not None, \"Strength must be specified if loc is used\"\n",
    "    assert strength is None or loc is not None, \"Loc must be specified if strength is used\"\n",
    "    assert strength is None or 0 <= strength <= 1, \"Illegal strength\"\n",
    "    assert loc is None or a <= loc <= b, \"Illegal loc\"\n",
    "\n",
    "    if strength is None or strength == 1:\n",
    "        # pure random\n",
    "        val = self._py_random.randint(a, b)\n",
    "    elif strength == 0:\n",
    "        # deterministic\n",
    "        val = loc\n",
    "    else:\n",
    "        # \"true\" random\n",
    "        scale = strength/(1-strength**3)\n",
    "        scale *= b - a\n",
    "        sa, sb = (a-.5-loc)/scale, (b+.5-loc)/scale\n",
    "\n",
    "        # restore n' save numpy random state hoping for reproducibility\n",
    "        #np_random.set_state(self._np_random)\n",
    "        raw_val = truncnorm.rvs(a=sa, b=sb, loc=loc, scale=scale)\n",
    "        #self._np_random = np_random.get_state()\n",
    "\n",
    "        val = int(round(raw_val))\n",
    "    assert a <= val <= b, f\"Stochastic panic: val={val} not in [{a}, {b}]\"\n",
    "    return val"
   ]
  },
  {
   "cell_type": "code",
   "execution_count": 177,
   "metadata": {},
   "outputs": [
    {
     "data": {
      "text/plain": [
       "(array([0.000e+00, 0.000e+00, 1.941e+03, 1.840e+03, 1.786e+03, 1.793e+03,\n",
       "        1.687e+03, 1.573e+03, 1.411e+03, 1.308e+03, 1.166e+03, 9.930e+02,\n",
       "        9.090e+02, 7.550e+02, 6.100e+02, 5.050e+02, 4.000e+02, 3.170e+02,\n",
       "        2.510e+02, 1.970e+02, 1.410e+02, 1.190e+02, 8.700e+01, 6.600e+01,\n",
       "        5.100e+01, 2.400e+01, 2.200e+01, 2.100e+01, 7.000e+00, 1.000e+01,\n",
       "        4.000e+00, 3.000e+00, 2.000e+00, 0.000e+00, 0.000e+00, 1.000e+00,\n",
       "        0.000e+00, 0.000e+00, 0.000e+00, 0.000e+00, 0.000e+00, 0.000e+00,\n",
       "        0.000e+00, 0.000e+00, 0.000e+00, 0.000e+00, 0.000e+00, 0.000e+00,\n",
       "        0.000e+00, 0.000e+00, 0.000e+00, 0.000e+00, 0.000e+00, 0.000e+00,\n",
       "        0.000e+00, 0.000e+00, 0.000e+00, 0.000e+00, 0.000e+00, 0.000e+00,\n",
       "        0.000e+00, 0.000e+00, 0.000e+00, 0.000e+00, 0.000e+00, 0.000e+00,\n",
       "        0.000e+00, 0.000e+00, 0.000e+00, 0.000e+00, 0.000e+00, 0.000e+00,\n",
       "        0.000e+00, 0.000e+00, 0.000e+00, 0.000e+00, 0.000e+00, 0.000e+00,\n",
       "        0.000e+00, 0.000e+00, 0.000e+00, 0.000e+00, 0.000e+00, 0.000e+00,\n",
       "        0.000e+00]),\n",
       " array([ 18,  19,  20,  21,  22,  23,  24,  25,  26,  27,  28,  29,  30,\n",
       "         31,  32,  33,  34,  35,  36,  37,  38,  39,  40,  41,  42,  43,\n",
       "         44,  45,  46,  47,  48,  49,  50,  51,  52,  53,  54,  55,  56,\n",
       "         57,  58,  59,  60,  61,  62,  63,  64,  65,  66,  67,  68,  69,\n",
       "         70,  71,  72,  73,  74,  75,  76,  77,  78,  79,  80,  81,  82,\n",
       "         83,  84,  85,  86,  87,  88,  89,  90,  91,  92,  93,  94,  95,\n",
       "         96,  97,  98,  99, 100, 101, 102, 103]),\n",
       " <a list of 85 Patch objects>)"
      ]
     },
     "execution_count": 177,
     "metadata": {},
     "output_type": "execute_result"
    },
    {
     "data": {
      "image/png": "[encoded data removed]",
      "text/plain": [
       "<Figure size 432x288 with 1 Axes>"
      ]
     },
     "metadata": {
      "needs_background": "light"
     },
     "output_type": "display_data"
    }
   ],
   "source": [
    "start, stop = 20, 100\n",
    "x = [randint(start, stop, loc=20, strength=.1) for _ in range (20000)]\n",
    "plt.hist(x, bins=list(range(start-2, stop+2+2)))"
   ]
  },
  {
   "cell_type": "code",
   "execution_count": 176,
   "metadata": {},
   "outputs": [
    {
     "data": {
      "text/plain": [
       "{20: 386,\n",
       " 21: 345,\n",
       " 22: 364,\n",
       " 23: 347,\n",
       " 24: 359,\n",
       " 25: 351,\n",
       " 26: 343,\n",
       " 27: 376,\n",
       " 28: 344,\n",
       " 29: 369,\n",
       " 30: 382,\n",
       " 31: 363,\n",
       " 32: 348,\n",
       " 33: 359,\n",
       " 34: 359,\n",
       " 35: 355,\n",
       " 36: 348,\n",
       " 37: 362,\n",
       " 38: 304,\n",
       " 39: 357,\n",
       " 40: 338,\n",
       " 41: 313,\n",
       " 42: 341,\n",
       " 43: 339,\n",
       " 44: 304,\n",
       " 45: 347,\n",
       " 46: 321,\n",
       " 47: 350,\n",
       " 48: 335,\n",
       " 49: 287,\n",
       " 50: 289,\n",
       " 51: 317,\n",
       " 52: 300,\n",
       " 53: 290,\n",
       " 54: 289,\n",
       " 55: 276,\n",
       " 56: 288,\n",
       " 57: 283,\n",
       " 58: 249,\n",
       " 59: 254,\n",
       " 60: 254,\n",
       " 61: 282,\n",
       " 62: 267,\n",
       " 63: 245,\n",
       " 64: 245,\n",
       " 65: 240,\n",
       " 66: 212,\n",
       " 67: 218,\n",
       " 68: 204,\n",
       " 69: 231,\n",
       " 70: 216,\n",
       " 71: 183,\n",
       " 72: 210,\n",
       " 73: 182,\n",
       " 74: 205,\n",
       " 75: 181,\n",
       " 76: 163,\n",
       " 77: 188,\n",
       " 78: 174,\n",
       " 79: 149,\n",
       " 80: 166,\n",
       " 81: 142,\n",
       " 82: 160,\n",
       " 83: 126,\n",
       " 84: 131,\n",
       " 85: 140,\n",
       " 86: 136,\n",
       " 87: 135,\n",
       " 88: 122,\n",
       " 89: 140,\n",
       " 90: 109,\n",
       " 91: 125,\n",
       " 92: 130,\n",
       " 93: 100,\n",
       " 94: 108,\n",
       " 95: 106,\n",
       " 96: 92,\n",
       " 97: 90,\n",
       " 98: 92,\n",
       " 99: 81,\n",
       " 100: 89}"
      ]
     },
     "execution_count": 176,
     "metadata": {},
     "output_type": "execute_result"
    }
   ],
   "source": [
    "cnt = Counter(x)\n",
    "{int(k): cnt[k] for k in sorted(cnt)}"
   ]
  },
  {
   "cell_type": "code",
   "execution_count": 120,
   "metadata": {},
   "outputs": [
    {
     "data": {
      "text/plain": [
       "<matplotlib.axes._subplots.AxesSubplot at 0x23dc2658808>"
      ]
     },
     "execution_count": 120,
     "metadata": {},
     "output_type": "execute_result"
    },
    {
     "data": {
      "image/png": "[encoded data removed]",
      "text/plain": [
       "<Figure size 432x288 with 1 Axes>"
      ]
     },
     "metadata": {
      "needs_background": "light"
     },
     "output_type": "display_data"
    }
   ],
   "source": [
    "sns.distplot([randint(start, stop, loc=7, strength=.2, raw=True) for _ in range (20000)])"
   ]
  },
  {
   "cell_type": "code",
   "execution_count": 124,
   "metadata": {},
   "outputs": [
    {
     "data": {
      "text/plain": [
       "<matplotlib.axes._subplots.AxesSubplot at 0x23dc2844ac8>"
      ]
     },
     "execution_count": 124,
     "metadata": {},
     "output_type": "execute_result"
    },
    {
     "data": {
      "image/png": "[encoded data removed]",
      "text/plain": [
       "<Figure size 432x288 with 1 Axes>"
      ]
     },
     "metadata": {
      "needs_background": "light"
     },
     "output_type": "display_data"
    }
   ],
   "source": [
    "sns.distplot([randint(start*20, stop*20, loc=7*20, strength=.2, raw=True) for _ in range (20000)])"
   ]
  },
  {
   "cell_type": "code",
   "execution_count": 178,
   "metadata": {},
   "outputs": [
    {
     "data": {
      "text/plain": [
       "3"
      ]
     },
     "execution_count": 178,
     "metadata": {},
     "output_type": "execute_result"
    }
   ],
   "source": [
    "a = [1, 2, 3]\n",
    "len(a)"
   ]
  },
  {
   "cell_type": "code",
   "execution_count": null,
   "metadata": {},
   "outputs": [],
   "source": []
  }
 ],
 "metadata": {
  "kernelspec": {
   "display_name": "Python 3",
   "language": "python",
   "name": "python3"
  },
  "language_info": {
   "codemirror_mode": {
    "name": "ipython",
    "version": 3
   },
   "file_extension": ".py",
   "mimetype": "text/x-python",
   "name": "python",
   "nbconvert_exporter": "python",
   "pygments_lexer": "ipython3",
   "version": "3.7.7"
  }
 },
 "nbformat": 4,
 "nbformat_minor": 4
}
