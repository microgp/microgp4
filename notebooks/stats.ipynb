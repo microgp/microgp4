{
 "cells": [
  {
   "cell_type": "markdown",
   "metadata": {
    "pycharm": {
     "name": "#%% md\n"
    }
   },
   "source": [
    "This file is part of MicroGP4 (<https://squillero.github.io/microgp4/>)\n",
    "Copyright © 2022 Giovanni Squillero and Alberto Tonda — distributed under Apache-2.0"
   ]
  },
  {
   "cell_type": "code",
   "execution_count": 1,
   "metadata": {
    "pycharm": {
     "name": "#%%\n"
    }
   },
   "outputs": [],
   "source": [
    "import microgp4 as ugp\n",
    "\n",
    "import pandas as pd\n",
    "import seaborn as sns\n",
    "import matplotlib.pyplot as plt"
   ]
  },
  {
   "cell_type": "code",
   "execution_count": 2,
   "metadata": {
    "pycharm": {
     "name": "#%%\n"
    }
   },
   "outputs": [
    {
     "name": "stderr",
     "output_type": "stream",
     "text": [
      "/var/folders/31/dkl97hks2c14b663vl55pt440000gn/T/ipykernel_7415/981888545.py:1: RuntimeWarning: Using None as random seed: Results will not be reproducible\n",
      "  ugp.rr.seed(None)\n"
     ]
    }
   ],
   "source": [
    "ugp.rr.seed(None)"
   ]
  },
  {
   "cell_type": "code",
   "execution_count": null,
   "outputs": [],
   "source": [
    "NUM_SAMPLES = 100_000\n",
    "\n",
    "df = pd.DataFrame()\n",
    "std_dev = list()\n",
    "sample = list()\n",
    "for s in range(11):\n",
    "    strength = s / 10\n",
    "    sample.extend([ugp.rr.random(old=0, strength=strength) for _ in range(NUM_SAMPLES)])\n",
    "    std_dev.extend([strength] * NUM_SAMPLES)\n",
    "df[\"strength\"] = std_dev\n",
    "df[\"sample\"] = sample\n",
    "\n",
    "sns.set(style=\"whitegrid\")\n",
    "plt.figure(figsize=(15, 8))\n",
    "plt.ylim(0, NUM_SAMPLES / 20)\n",
    "sns.histplot(df, x=\"sample\", hue=\"strength\", bins=200)"
   ],
   "metadata": {
    "collapsed": false,
    "pycharm": {
     "name": "#%%\n"
    }
   }
  },
  {
   "cell_type": "code",
   "execution_count": null,
   "outputs": [],
   "source": [],
   "metadata": {
    "collapsed": false,
    "pycharm": {
     "name": "#%%\n"
    }
   }
  },
  {
   "cell_type": "code",
   "execution_count": null,
   "outputs": [],
   "source": [
    "from collections import Counter\n",
    "\n",
    "values = list(\"ABCDEFGHIJ\")\n",
    "old = 2\n",
    "samples = [ugp.rr.choice(values, old, 0.5) for _ in range(100_000)]\n",
    "cnt = Counter(samples)\n",
    "[(v, cnt[v]) for v in values]"
   ],
   "metadata": {
    "collapsed": false,
    "pycharm": {
     "name": "#%%\n"
    }
   }
  },
  {
   "cell_type": "code",
   "execution_count": null,
   "outputs": [],
   "source": [],
   "metadata": {
    "collapsed": false,
    "pycharm": {
     "name": "#%%\n"
    }
   }
  },
  {
   "cell_type": "code",
   "execution_count": null,
   "outputs": [],
   "source": [
    "self = ugp.rr.default_generator\n",
    "\n",
    "\n",
    "def randint(self, low, high, old=None, strength=1.0):\n",
    "    if old is not None:\n",
    "        old = (old - low) / (high - low)\n",
    "    r = self.random(old=old, strength=strength)\n",
    "    return int(r * (high - low) + low)"
   ],
   "metadata": {
    "collapsed": false,
    "pycharm": {
     "name": "#%%\n"
    }
   }
  },
  {
   "cell_type": "code",
   "execution_count": null,
   "outputs": [],
   "source": [
    "samples = [randint(self, 0, 10, old=3, strength=0.5) for _ in range(100_000)]\n",
    "cnt = Counter(samples)\n",
    "[(v, cnt[v]) for v in sorted(cnt)]"
   ],
   "metadata": {
    "collapsed": false,
    "pycharm": {
     "name": "#%%\n"
    }
   }
  },
  {
   "cell_type": "code",
   "execution_count": null,
   "outputs": [],
   "source": [
    "%timeit samples = [randint(self, 0, 10, old=3, strength=.5) for _ in range(100_000)]"
   ],
   "metadata": {
    "collapsed": false,
    "pycharm": {
     "name": "#%%\n"
    }
   }
  },
  {
   "cell_type": "code",
   "execution_count": null,
   "outputs": [],
   "source": [
    "%timeit samples = [randint(self, 0, 10, old=3, strength=1) for _ in range(100_000)]"
   ],
   "metadata": {
    "collapsed": false,
    "pycharm": {
     "name": "#%%\n"
    }
   }
  },
  {
   "cell_type": "code",
   "execution_count": null,
   "outputs": [],
   "source": [
    "from scipy.stats import truncnorm\n",
    "from numpy import random\n",
    "\n",
    "a, b = 0, 1\n",
    "loc = 0.2\n",
    "scale = 0.3\n",
    "\n",
    "f = truncnorm((a - loc) / scale, (b - loc) / scale)\n",
    "%timeit samples = [f.rvs() for _ in range(1_000)]\n",
    "%timeit samples = [truncnorm.rvs((a - loc) / scale, (b - loc) / scale) for _ in range(1_000)]\n",
    "%timeit samples = [random.random() for _ in range(1_000)]"
   ],
   "metadata": {
    "collapsed": false,
    "pycharm": {
     "name": "#%%\n"
    }
   }
  },
  {
   "cell_type": "code",
   "execution_count": null,
   "outputs": [],
   "source": [
    "from scipy import stats\n",
    "\n",
    "stats"
   ],
   "metadata": {
    "collapsed": false,
    "pycharm": {
     "name": "#%%\n"
    }
   }
  },
  {
   "cell_type": "code",
   "execution_count": null,
   "outputs": [],
   "source": [],
   "metadata": {
    "collapsed": false,
    "pycharm": {
     "name": "#%%\n"
    }
   }
  }
 ],
 "metadata": {
  "kernelspec": {
   "display_name": "Python 3 (ipykernel)",
   "language": "python",
   "name": "python3"
  },
  "language_info": {
   "codemirror_mode": {
    "name": "ipython",
    "version": 3
   },
   "file_extension": ".py",
   "mimetype": "text/x-python",
   "name": "python",
   "nbconvert_exporter": "python",
   "pygments_lexer": "ipython3",
   "version": "3.10.4"
  }
 },
 "nbformat": 4,
 "nbformat_minor": 1
}