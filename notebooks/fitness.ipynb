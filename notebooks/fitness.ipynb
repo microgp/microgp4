{
 "cells": [
  {
   "cell_type": "markdown",
   "source": [
    "This file is part of MicroGP4 (<https://squillero.github.io/microgp4/>)\n",
    "Copyright © 2022 Giovanni Squillero and Alberto Tonda — distributed under Apache-2.0"
   ],
   "metadata": {
    "collapsed": false,
    "pycharm": {
     "name": "#%% md\n"
    }
   }
  },
  {
   "cell_type": "code",
   "execution_count": 1,
   "outputs": [
    {
     "name": "stderr",
     "output_type": "stream",
     "text": [
      "10:38:54 DEBUG: Logging initialized [microgp4.utils]\n"
     ]
    }
   ],
   "source": [
    "import logging\n",
    "from abc import ABC, abstractmethod\n",
    "from numbers import Number\n",
    "\n",
    "import numpy\n",
    "\n",
    "import microgp4 as ugp\n",
    "ugp.setup_logging(logging.DEBUG)"
   ],
   "metadata": {
    "collapsed": false,
    "pycharm": {
     "name": "#%%\n"
    }
   }
  },
  {
   "cell_type": "code",
   "execution_count": 2,
   "outputs": [],
   "source": [
    "x = ugp.fitness.Simple(142)\n",
    "y = ugp.fitness.Simple(99)"
   ],
   "metadata": {
    "collapsed": false,
    "pycharm": {
     "name": "#%%\n"
    }
   }
  },
  {
   "cell_type": "code",
   "execution_count": 3,
   "outputs": [
    {
     "data": {
      "text/plain": "(True, True, True, True)"
     },
     "execution_count": 3,
     "metadata": {},
     "output_type": "execute_result"
    }
   ],
   "source": [
    "x >> y, y << x, x >= y, y <= y"
   ],
   "metadata": {
    "collapsed": false,
    "pycharm": {
     "name": "#%%\n"
    }
   }
  },
  {
   "cell_type": "code",
   "execution_count": 4,
   "outputs": [
    {
     "data": {
      "text/plain": "('Simple{v=142}',\n 'Simple{v=99}',\n '<microgp4.fitness.simple.Simple object at 0x1650babf0>',\n '<microgp4.fitness.simple.Simple object at 0x1650baad0>')"
     },
     "execution_count": 4,
     "metadata": {},
     "output_type": "execute_result"
    }
   ],
   "source": [
    "str(x), str(y), repr(x), repr(y)"
   ],
   "metadata": {
    "collapsed": false,
    "pycharm": {
     "name": "#%%\n"
    }
   }
  },
  {
   "cell_type": "code",
   "execution_count": 5,
   "outputs": [
    {
     "data": {
      "text/plain": "True"
     },
     "execution_count": 5,
     "metadata": {},
     "output_type": "execute_result"
    }
   ],
   "source": [
    "x >> y"
   ],
   "metadata": {
    "collapsed": false,
    "pycharm": {
     "name": "#%%\n"
    }
   }
  },
  {
   "cell_type": "code",
   "execution_count": 6,
   "outputs": [
    {
     "data": {
      "text/plain": "True"
     },
     "execution_count": 6,
     "metadata": {},
     "output_type": "execute_result"
    }
   ],
   "source": [
    "ugp.fitness.Chromatic([1.1, 2, 3]) >> ugp.fitness.Chromatic([1, 2, 3])"
   ],
   "metadata": {
    "collapsed": false,
    "pycharm": {
     "name": "#%%\n"
    }
   }
  },
  {
   "cell_type": "code",
   "execution_count": 7,
   "outputs": [
    {
     "name": "stderr",
     "output_type": "stream",
     "text": [
      "10:38:54 DEBUG: Comparing on feature i=1 [microgp4.fitness.multiobjective]\n",
      "10:38:54 DEBUG: Comparing on feature i=1 [microgp4.fitness.multiobjective]\n",
      "10:38:54 DEBUG: Comparing on feature i=1 [microgp4.fitness.multiobjective]\n",
      "10:38:54 DEBUG: Comparing on feature i=1 [microgp4.fitness.multiobjective]\n",
      "10:38:54 DEBUG: Comparing on feature i=1 [microgp4.fitness.multiobjective]\n",
      "10:38:54 DEBUG: Comparing on feature i=1 [microgp4.fitness.multiobjective]\n",
      "10:38:54 DEBUG: Comparing on feature i=1 [microgp4.fitness.multiobjective]\n",
      "10:38:54 DEBUG: Comparing on feature i=1 [microgp4.fitness.multiobjective]\n",
      "10:38:54 DEBUG: Comparing on feature i=1 [microgp4.fitness.multiobjective]\n",
      "10:38:54 DEBUG: Comparing on feature i=1 [microgp4.fitness.multiobjective]\n"
     ]
    },
    {
     "data": {
      "text/plain": "[False, False, False, False, False, False, False, False, False, False]"
     },
     "execution_count": 7,
     "metadata": {},
     "output_type": "execute_result"
    }
   ],
   "source": [
    "x = ugp.fitness.Chromatic([1, 20, 3])\n",
    "y = ugp.fitness.Chromatic([2, 1, 3])\n",
    "\n",
    "[x < y for _ in range(10)]"
   ],
   "metadata": {
    "collapsed": false,
    "pycharm": {
     "name": "#%%\n"
    }
   }
  },
  {
   "cell_type": "code",
   "execution_count": 7,
   "outputs": [],
   "source": [],
   "metadata": {
    "collapsed": false,
    "pycharm": {
     "name": "#%%\n"
    }
   }
  },
  {
   "cell_type": "code",
   "execution_count": 7,
   "outputs": [],
   "source": [],
   "metadata": {
    "collapsed": false,
    "pycharm": {
     "name": "#%%\n"
    }
   }
  }
 ],
 "metadata": {
  "kernelspec": {
   "display_name": "Python 3 (ipykernel)",
   "language": "python",
   "name": "python3"
  },
  "language_info": {
   "codemirror_mode": {
    "name": "ipython",
    "version": 3
   },
   "file_extension": ".py",
   "mimetype": "text/x-python",
   "name": "python",
   "nbconvert_exporter": "python",
   "pygments_lexer": "ipython3",
   "version": "3.10.4"
  }
 },
 "nbformat": 4,
 "nbformat_minor": 1
}