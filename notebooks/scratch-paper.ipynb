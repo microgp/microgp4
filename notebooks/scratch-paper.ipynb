{
 "cells": [
  {
   "cell_type": "code",
   "execution_count": 1,
   "metadata": {},
   "outputs": [],
   "source": [
    "#############################################################################\n",
    "#          __________                                                       #\n",
    "#   __  __/ ____/ __ \\__ __   This file is part of MicroGP4 v1.0 \"Kiwi\"     #\n",
    "#  / / / / / __/ /_/ / // /   (!) by Giovanni Squillero and Alberto Tonda   #\n",
    "# / /_/ / /_/ / ____/ // /_   https://github.com/squillero/microgp4         #\n",
    "# \\__  /\\____/_/   /__  __/                                                 #\n",
    "#   /_/ --MicroGP4-- /_/      \"You don't need a big goal, be μ-ambitious!!\" #\n",
    "#                                                                           #\n",
    "#############################################################################"
   ]
  },
  {
   "cell_type": "code",
   "execution_count": 2,
   "metadata": {},
   "outputs": [],
   "source": [
    "%matplotlib inline\n",
    "\n",
    "import os\n",
    "os.environ['PYTHONWARNINGS'] = 'default'"
   ]
  },
  {
   "cell_type": "code",
   "execution_count": 3,
   "metadata": {},
   "outputs": [],
   "source": [
    "from collections import Counter"
   ]
  },
  {
   "cell_type": "code",
   "execution_count": 4,
   "metadata": {},
   "outputs": [
    {
     "name": "stderr",
     "output_type": "stream",
     "text": [
      "WARNING:root:Initializing Randy the Ram: <microgp.randy.core.Randy object at 0x00000295AEB366D0>\n",
      "<ipython-input-4-613c3f9c394b>:1: UserWarning: Paranoia checks are active; performances can be significantly impaired (consider using '-O')\n",
      "  import microgp as ugp4\n"
     ]
    }
   ],
   "source": [
    "import microgp as ugp4"
   ]
  },
  {
   "cell_type": "code",
   "execution_count": 5,
   "metadata": {},
   "outputs": [
    {
     "name": "stderr",
     "output_type": "stream",
     "text": [
      "\u001b[36m17:04:13\u001b[0m\u001b[94m DEBUG\u001b[0m \u001b[90mUsing Randy the Ram (<microgp.randy.core.Randy object at 0x00000295AEB366D0>)\u001b[0m\n"
     ]
    },
    {
     "data": {
      "text/plain": [
       "8"
      ]
     },
     "execution_count": 5,
     "metadata": {},
     "output_type": "execute_result"
    }
   ],
   "source": [
    "ugp4.randy.randint(1, 10)"
   ]
  },
  {
   "cell_type": "code",
   "execution_count": 6,
   "metadata": {},
   "outputs": [
    {
     "name": "stderr",
     "output_type": "stream",
     "text": [
      "\u001b[36m16:59:40\u001b[0m\u001b[94m DEBUG\u001b[0m \u001b[90mNotez bien: Randy initialized without seed, results will not be reproducible.\u001b[0m\n"
     ]
    }
   ],
   "source": [
    "x = ugp4.randy.Randy(None)"
   ]
  },
  {
   "cell_type": "code",
   "execution_count": 14,
   "metadata": {},
   "outputs": [
    {
     "name": "stdout",
     "output_type": "stream",
     "text": [
      "Counter({1: 3335549, 2: 3333488, 3: 3330963})\n"
     ]
    }
   ],
   "source": [
    "print(Counter([x.randint(1, 3) for _ in range(10_000_000)]))"
   ]
  },
  {
   "cell_type": "code",
   "execution_count": null,
   "metadata": {},
   "outputs": [],
   "source": []
  }
 ],
 "metadata": {
  "kernelspec": {
   "display_name": "Python 3",
   "language": "python",
   "name": "python3"
  },
  "language_info": {
   "codemirror_mode": {
    "name": "ipython",
    "version": 3
   },
   "file_extension": ".py",
   "mimetype": "text/x-python",
   "name": "python",
   "nbconvert_exporter": "python",
   "pygments_lexer": "ipython3",
   "version": "3.8.8"
  }
 },
 "nbformat": 4,
 "nbformat_minor": 4
}
