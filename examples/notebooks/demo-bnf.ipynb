{
 "cells": [
  {
   "cell_type": "markdown",
   "metadata": {},
   "source": [
    "This notebook is part of [**MicroGP v4!2.0**](https://github.com/microgp/microgp4)  \n",
    "Copyright 2023 Giovanni Squillero and Alberto Tonda  \n",
    "SPDX-License-Identifier: Apache-2.0  "
   ]
  },
  {
   "cell_type": "code",
   "execution_count": 1,
   "metadata": {
    "ExecuteTime": {
     "end_time": "2023-05-11T06:14:57.510323Z",
     "start_time": "2023-05-11T06:14:56.625332Z"
    }
   },
   "outputs": [
    {
     "name": "stderr",
     "output_type": "stream",
     "text": [
      "/var/folders/31/dkl97hks2c14b663vl55pt440000gn/T/ipykernel_25707/3483555072.py:1: RuntimeWarning: \n",
      "  Paranoia checks are always enabled in notebooks: performances can be significantly impaired\n",
      "  import microgp4 as ugp\n"
     ]
    }
   ],
   "source": [
    "import microgp4 as ugp\n",
    "from microgp4.framework import SELF"
   ]
  },
  {
   "cell_type": "code",
   "execution_count": 2,
   "metadata": {
    "ExecuteTime": {
     "end_time": "2023-05-11T06:14:57.517847Z",
     "start_time": "2023-05-11T06:14:57.513869Z"
    }
   },
   "outputs": [],
   "source": [
    "var = ugp.f.macro(\"{v}\", v=ugp.f.choice_parameter(\"abcde\"))\n",
    "num = ugp.f.macro(\"{n}\", n=ugp.f.integer_parameter(0, 100 + 1))\n",
    "terminal = ugp.f.alternative([var, num])\n",
    "op = ugp.f.macro(\"{o}\", o=ugp.f.choice_parameter(\"+-*/\"))\n",
    "bnf = ugp.f.bnf([[terminal], [\"(\", SELF, op, SELF, \")\"]], parameters={\"_text_after_macro\": \"\"})"
   ]
  },
  {
   "cell_type": "code",
   "execution_count": 3,
   "metadata": {
    "ExecuteTime": {
     "end_time": "2023-05-11T06:14:57.519999Z",
     "start_time": "2023-05-11T06:14:57.518251Z"
    },
    "scrolled": true
   },
   "outputs": [],
   "source": [
    "common = ugp.f.make_shared_parameter(ugp.f.integer_parameter(-100, 101))\n",
    "init = ugp.f.macro(\"\\n\".join(v + \" = {val}\" for v in \"abcde\"), val=common)\n",
    "block = ugp.f.sequence([ugp.f.choice_parameter(\"abcde\"), \" = \", bnf, \"\\n\"], parameters={\"_text_after_macro\": \"\"})\n",
    "program = ugp.f.sequence([\"# ==[ init ]==\", init, \"# ==[ bnf ]==\", block, block, block, block, block])"
   ]
  },
  {
   "cell_type": "code",
   "execution_count": 4,
   "metadata": {
    "ExecuteTime": {
     "end_time": "2023-05-11T06:14:57.544209Z",
     "start_time": "2023-05-11T06:14:57.529358Z"
    }
   },
   "outputs": [],
   "source": [
    "# ugp.rrandom.seed()\n",
    "population = ugp.classes.Population(top_frame=program, fitness_function=None, parameters={\"_comment\": \"#\"})\n",
    "population.add_random_individual()"
   ]
  },
  {
   "cell_type": "code",
   "execution_count": 5,
   "metadata": {
    "is_executing": true,
    "scrolled": true
   },
   "outputs": [
    {
     "data": {
      "text/plain": [
       "'Individual with 291 frames and 239 macros (119 parameters total, 0 structural)'"
      ]
     },
     "execution_count": 5,
     "metadata": {},
     "output_type": "execute_result"
    }
   ],
   "source": [
    "str(population.individuals[len(population.individuals) - 1])"
   ]
  },
  {
   "cell_type": "code",
   "execution_count": 6,
   "metadata": {
    "ExecuteTime": {
     "start_time": "2023-05-11T06:14:57.540030Z"
    },
    "is_executing": true
   },
   "outputs": [],
   "source": [
    "population.individuals[len(population.individuals) - 1].save_figure(\"e1.png\", figsize=(40, 40), bbox_inches=\"tight\")"
   ]
  },
  {
   "cell_type": "code",
   "execution_count": null,
   "metadata": {
    "is_executing": true
   },
   "outputs": [],
   "source": []
  }
 ],
 "metadata": {
  "kernelspec": {
   "display_name": "Python 3 (ipykernel)",
   "language": "python",
   "name": "python3"
  },
  "language_info": {
   "codemirror_mode": {
    "name": "ipython",
    "version": 3
   },
   "file_extension": ".py",
   "mimetype": "text/x-python",
   "name": "python",
   "nbconvert_exporter": "python",
   "pygments_lexer": "ipython3",
   "version": "3.11.3"
  }
 },
 "nbformat": 4,
 "nbformat_minor": 2
}
